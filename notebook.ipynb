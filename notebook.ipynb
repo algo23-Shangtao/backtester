{
 "cells": [
  {
   "cell_type": "code",
   "execution_count": 1,
   "metadata": {},
   "outputs": [],
   "source": [
    "from Event_Driven_Backtester import Data, Execution, Portfolio, Strategy, backtester\n",
    "start_date = '2021-01-01'\n",
    "end_date = '2021-05-05'\n",
    "symbol_list = ['rb']\n",
    "backtest = backtester.BackTest(start_date, end_date, symbol_list, Data.HistoryCSVDataHandler, Strategy.BuyAndHoldStrategy, Portfolio.NaivePortfolio, Execution.SimulateExecutionHandler)"
   ]
  },
  {
   "cell_type": "code",
   "execution_count": 2,
   "metadata": {},
   "outputs": [
    {
     "ename": "TypeError",
     "evalue": "unsupported operand type(s) for *: 'int' and 'NoneType'",
     "output_type": "error",
     "traceback": [
      "\u001b[0;31m---------------------------------------------------------------------------\u001b[0m",
      "\u001b[0;31mTypeError\u001b[0m                                 Traceback (most recent call last)",
      "Cell \u001b[0;32mIn[2], line 1\u001b[0m\n\u001b[0;32m----> 1\u001b[0m backtest\u001b[39m.\u001b[39;49mrun_backtest()\n",
      "File \u001b[0;32m~/python_codes/backtester/Event_Driven_Backtester/backtester.py:47\u001b[0m, in \u001b[0;36mBackTest.run_backtest\u001b[0;34m(self)\u001b[0m\n\u001b[1;32m     45\u001b[0m     \u001b[39mself\u001b[39m\u001b[39m.\u001b[39mexecution\u001b[39m.\u001b[39mexecute_order(event)\n\u001b[1;32m     46\u001b[0m \u001b[39melif\u001b[39;00m event\u001b[39m.\u001b[39mtype \u001b[39m==\u001b[39m \u001b[39m'\u001b[39m\u001b[39mFILL\u001b[39m\u001b[39m'\u001b[39m:\n\u001b[0;32m---> 47\u001b[0m     \u001b[39mself\u001b[39;49m\u001b[39m.\u001b[39;49mportfolio\u001b[39m.\u001b[39;49mupdate_fill(event)\n",
      "File \u001b[0;32m~/python_codes/backtester/Event_Driven_Backtester/Portfolio.py:143\u001b[0m, in \u001b[0;36mNaivePortfolio.update_fill\u001b[0;34m(self, event)\u001b[0m\n\u001b[1;32m    141\u001b[0m \u001b[39mdef\u001b[39;00m \u001b[39mupdate_fill\u001b[39m(\u001b[39mself\u001b[39m, event):\n\u001b[1;32m    142\u001b[0m     \u001b[39mif\u001b[39;00m event\u001b[39m.\u001b[39mtype \u001b[39m==\u001b[39m \u001b[39m\"\u001b[39m\u001b[39mFILL\u001b[39m\u001b[39m\"\u001b[39m:\n\u001b[0;32m--> 143\u001b[0m         \u001b[39mself\u001b[39;49m\u001b[39m.\u001b[39;49m_update_position_fill(event)\n\u001b[1;32m    144\u001b[0m         \u001b[39mself\u001b[39m\u001b[39m.\u001b[39m_update_capital_fill(event)\n",
      "File \u001b[0;32m~/python_codes/backtester/Event_Driven_Backtester/Portfolio.py:121\u001b[0m, in \u001b[0;36mNaivePortfolio._update_position_fill\u001b[0;34m(self, fill)\u001b[0m\n\u001b[1;32m    119\u001b[0m \u001b[39m# self.current_positions{symbol: (direction, position, market_value), ... ,} \u001b[39;00m\n\u001b[1;32m    120\u001b[0m current_position \u001b[39m=\u001b[39m \u001b[39mself\u001b[39m\u001b[39m.\u001b[39mcurrent_positions[fill_symbol]\n\u001b[0;32m--> 121\u001b[0m position \u001b[39m=\u001b[39m current_position[\u001b[39m1\u001b[39m] \u001b[39m+\u001b[39m fill_direction \u001b[39m*\u001b[39;49m fill_quantity\n\u001b[1;32m    122\u001b[0m direction \u001b[39m=\u001b[39m \u001b[39m1\u001b[39m \u001b[39mif\u001b[39;00m position \u001b[39m>\u001b[39m \u001b[39m0\u001b[39m \u001b[39melse\u001b[39;00m \u001b[39m-\u001b[39m\u001b[39m1\u001b[39m\n\u001b[1;32m    123\u001b[0m position \u001b[39m=\u001b[39m \u001b[39mabs\u001b[39m(position)\n",
      "\u001b[0;31mTypeError\u001b[0m: unsupported operand type(s) for *: 'int' and 'NoneType'"
     ]
    }
   ],
   "source": [
    "backtest.run_backtest()"
   ]
  },
  {
   "cell_type": "code",
   "execution_count": null,
   "metadata": {},
   "outputs": [],
   "source": []
  }
 ],
 "metadata": {
  "kernelspec": {
   "display_name": "quant_env",
   "language": "python",
   "name": "python3"
  },
  "language_info": {
   "codemirror_mode": {
    "name": "ipython",
    "version": 3
   },
   "file_extension": ".py",
   "mimetype": "text/x-python",
   "name": "python",
   "nbconvert_exporter": "python",
   "pygments_lexer": "ipython3",
   "version": "3.9.16"
  },
  "orig_nbformat": 4
 },
 "nbformat": 4,
 "nbformat_minor": 2
}
